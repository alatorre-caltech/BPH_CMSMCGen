{
 "cells": [
  {
   "cell_type": "code",
   "execution_count": 94,
   "metadata": {
    "ExecuteTime": {
     "end_time": "2022-03-05T20:28:33.673608Z",
     "start_time": "2022-03-05T20:28:33.665681Z"
    }
   },
   "outputs": [],
   "source": [
    "import os, glob, sys, re\n",
    "import numpy as np\n",
    "from prettytable import PrettyTable"
   ]
  },
  {
   "cell_type": "code",
   "execution_count": 2,
   "metadata": {
    "ExecuteTime": {
     "end_time": "2022-03-05T18:48:57.714423Z",
     "start_time": "2022-03-05T18:48:57.701413Z"
    }
   },
   "outputs": [],
   "source": [
    "f = open('ParticleData.html', 'r')\n",
    "content = f.readlines()"
   ]
  },
  {
   "cell_type": "code",
   "execution_count": 84,
   "metadata": {
    "ExecuteTime": {
     "end_time": "2022-03-05T20:15:44.283296Z",
     "start_time": "2022-03-05T20:15:44.262490Z"
    }
   },
   "outputs": [],
   "source": [
    "def isRelevantDecay(products):\n",
    "    DstSources = [413, 10433, 10413, 10423, 415, 425, 20413, 20423]\n",
    "    idxDst = [ i for i,x in enumerate(np.abs(products)) if x in DstSources ]\n",
    "    if len(idxDst) == 0:\n",
    "        return False\n",
    "\n",
    "    \n",
    "    idxHc = []\n",
    "    for i, x in enumerate(np.abs(products)):\n",
    "        if i == idxDst[0]:\n",
    "            continue\n",
    "        if (x % 1000)/100 == 4:\n",
    "            idxHc.append(i)\n",
    "    if len(idxHc) == 0:\n",
    "        return False\n",
    "    \n",
    "    return True"
   ]
  },
  {
   "cell_type": "code",
   "execution_count": 160,
   "metadata": {
    "ExecuteTime": {
     "end_time": "2022-03-05T20:59:01.640665Z",
     "start_time": "2022-03-05T20:59:01.393522Z"
    },
    "code_folding": [
     8,
     12,
     18,
     57,
     59
    ]
   },
   "outputs": [],
   "source": [
    "particlesData = {}\n",
    "interestigDecays = []\n",
    "\n",
    "pHeader = '[ ]*<p/>particle:[ ]*id=\"[0-9]+\" name='\n",
    "decayHeader = '[ ]*<br/>[ ]+channel: '\n",
    "skipNext = 0\n",
    "pId = None\n",
    "for iln, ln in enumerate(content):\n",
    "    if skipNext > 0:\n",
    "        skipNext -= 1\n",
    "        continue\n",
    "    \n",
    "    elif not ln.strip():\n",
    "        continue\n",
    "    \n",
    "    elif pId is None and not re.match(pHeader, ln): \n",
    "        continue\n",
    "        \n",
    "    elif re.match(pHeader, ln):\n",
    "        pData = ln[14:-1]\n",
    "        addLines = 0\n",
    "        while re.match(r'[ ]+[a-zA-Z0-9]+=\".*\"', content[iln+addLines+1]):\n",
    "            addLines += 1\n",
    "            pData += ' ' + content[iln+addLines].strip()\n",
    "            \n",
    "        skipNext = addLines\n",
    "        for d in re.findall(r'[a-zA-Z]+=\"[/a-zA-z 0-9\\.\\*\\-\\+_\\(\\)]+\"', pData):\n",
    "            if not d: \n",
    "                continue\n",
    "            if re.match('id=\"[0-9]+\"', d):\n",
    "                pId = int(d[4:-1])\n",
    "                particlesData[pId] = {}\n",
    "            else:\n",
    "                k, v = re.split('=', d, maxsplit=1)\n",
    "                if k.endswith('Type'):\n",
    "                    k = k[:-4]\n",
    "                v = v[1:-1]\n",
    "                if k in ['charge', 'spin', 'col']:\n",
    "                    v = int(v)\n",
    "                elif k in ['m0']:\n",
    "                    v = float(v)\n",
    "                particlesData[pId][k] = v\n",
    "    elif pId is not None and re.match(decayHeader, ln):\n",
    "        data = ln[len(decayHeader):].strip()\n",
    "        br = None\n",
    "        products = []\n",
    "        for aux in re.findall(r'[a-zA-Z]+=\"[ 0-9\\.\\-]+\"', data):\n",
    "            k, v = aux.split('=')\n",
    "            v = v[1:-1]\n",
    "            if k == 'bRatio': \n",
    "                br = float(v)\n",
    "            elif k == 'products':\n",
    "                products = [int(x) for x in v.split(' ') if x]\n",
    "                \n",
    "        flag = pId == 521\n",
    "        for x in [311, 411, 413, 211]:\n",
    "            flag = flag and (x in np.abs(products))\n",
    "        if flag:\n",
    "            print 'Found:', pId, br, products\n",
    "        if isRelevantDecay(products):\n",
    "            interestigDecays.append([pId, br, products])\n",
    "#             print 'Found:', pId, br, products\n",
    "#             break\n",
    "    elif ln.strip() in ['</body>', '</html>', '<!-- Copyright (C) 2022 Torbjorn Sjostrand -->']:\n",
    "        continue\n",
    "    else:\n",
    "        print pId\n",
    "        print 'Line not recognized at', iln\n",
    "        print '>',ln,'<'\n",
    "        break"
   ]
  },
  {
   "cell_type": "code",
   "execution_count": 154,
   "metadata": {
    "ExecuteTime": {
     "end_time": "2022-03-05T20:51:39.946484Z",
     "start_time": "2022-03-05T20:51:39.909901Z"
    }
   },
   "outputs": [
    {
     "name": "stdout",
     "output_type": "stream",
     "text": [
      "Found 59 D*Hc decays\n",
      "+--------+----------------------+-----------+\n",
      "| Mother |       Products       | Br [1e-3] |\n",
      "+--------+----------------------+-----------+\n",
      "|   B0   |        D*+ D-        |    0.34   |\n",
      "|   B0   |       D*+ D*-        |    0.83   |\n",
      "|   B0   |        D*- D+        |    0.34   |\n",
      "|   B0   |       D_s+ D*-       |   12.60   |\n",
      "|   B0   |   D_s+ D*_2(2460)-   |    4.20   |\n",
      "|   B0   |      D*_s+ D*-       |   24.00   |\n",
      "|   B0   |  D*_s+ D*_2(2460)-   |    4.00   |\n",
      "|   B0   |      D_1- D_s+       |    1.20   |\n",
      "|   B0   |      D_1- D*_s+      |    2.40   |\n",
      "|   B0   |      D*_0s+ D*-      |    1.60   |\n",
      "|   B0   |      D*_1- D_s+      |    0.60   |\n",
      "|   B0   |     D*_1- D*_s+      |    1.20   |\n",
      "|   B0   |      D*_1s+ D*-      |    9.80   |\n",
      "|   B0   |      D*+ D- K0       |    4.70   |\n",
      "|   B0   |      D*+ D- K*0      |    2.50   |\n",
      "|   B0   |      D*+ D*- K0      |    7.00   |\n",
      "|   B0   |     D*+ D*- K*0      |    5.00   |\n",
      "|   B0   |      D*- D+ K0       |    1.80   |\n",
      "|   B0   |      D*- D+ K*0      |    2.50   |\n",
      "|   B0   |      D0 D*- K+       |    3.10   |\n",
      "|   B0   |      D0 D*- K*+      |    2.50   |\n",
      "|   B0   |      D*0 D*- K+      |   10.00   |\n",
      "|   B0   |     D*0 D*- K*+      |    5.00   |\n",
      "|   B+   |      Dbar0 D*+       |    0.34   |\n",
      "|   B+   |      D*bar0 D*+      |    1.04   |\n",
      "|   B+   | D_s+ D*_2(2460)bar0  |    4.20   |\n",
      "|   B+   | D*_s+ D*_2(2460)bar0 |    4.00   |\n",
      "|   B+   |     D_1bar0 D_s+     |    1.20   |\n",
      "|   B+   |    D_1bar0 D*_s+     |    2.40   |\n",
      "|   B+   |    D*_1bar0 D_s+     |    0.60   |\n",
      "|   B+   |    D*_1bar0 D*_s+    |    1.20   |\n",
      "|   B+   |      D*+ D- K+       |    0.50   |\n",
      "|   B+   |      D*+ D- K*+      |    0.50   |\n",
      "|   B+   |      D*+ D*- K+      |    1.50   |\n",
      "|   B+   |     D*+ D*- K*+      |    1.00   |\n",
      "|   B+   |      D*- D+ K+       |    1.50   |\n",
      "|   B+   |      D*- D+ K*+      |    0.50   |\n",
      "|   B+   |     Dbar0 D*+ K0     |    4.90   |\n",
      "|   B+   |    Dbar0 D*+ K*0     |    2.50   |\n",
      "|   B+   |    D*bar0 D*+ K0     |   10.00   |\n",
      "|   B+   |    D*bar0 D*+ K*0    |    5.00   |\n",
      "|  B_s0  |       D_s+ D*-       |    1.70   |\n",
      "|  B_s0  |      D*_s+ D*-       |    1.70   |\n",
      "|  B_s0  |      D*+ D- K0       |    0.70   |\n",
      "|  B_s0  |     Dbar0 D*+ K-     |    0.70   |\n",
      "|  B_s0  |     D_s- D*+ K0      |    5.00   |\n",
      "|  B_s0  |     D_s- D*+ K*0     |    2.50   |\n",
      "|  B_s0  |     D*_s- D*+ K0     |   15.00   |\n",
      "|  B_s0  |    D*_s- D*+ K*0     |    3.00   |\n",
      "|  B_s0  |    D*+ D- K0 pi0     |    0.30   |\n",
      "|  B_s0  |    D*+ D- K- pi+     |    0.30   |\n",
      "|  B_s0  |   Dbar0 D*+ K0 pi-   |    0.70   |\n",
      "|  B_s0  |   Dbar0 D*+ K- pi0   |    0.70   |\n",
      "|  B_c+  |        D0 D*+        |    0.00   |\n",
      "|  B_c+  |      Dbar0 D*+       |    0.05   |\n",
      "|  B_c+  |       D*0 D*+        |    0.00   |\n",
      "|  B_c+  |      D*bar0 D*+      |    0.33   |\n",
      "|  B_c+  |      eta_c D*+       |    0.10   |\n",
      "|  B_c+  |      J/psi D*+       |    0.28   |\n",
      "+--------+----------------------+-----------+\n"
     ]
    }
   ],
   "source": [
    "print 'Found {} D*Hc decays'.format(len(interestigDecays))\n",
    "\n",
    "table = PrettyTable()\n",
    "table.field_names = ['Mother', 'Products', 'Br [1e-3]']\n",
    "\n",
    "for motherId, br, products in interestigDecays:\n",
    "    prodNames = ''\n",
    "    for pid in products:\n",
    "        if pid > 0:\n",
    "            prodNames += particlesData[pid]['name'] + ' '\n",
    "        else:\n",
    "            prodNames += particlesData[-pid]['antiName'] + ' '\n",
    "    out = [particlesData[motherId]['name'], prodNames[:-1], '{:.2f}'.format(1e3*br)]\n",
    "    table.add_row(out)\n",
    "print table"
   ]
  }
 ],
 "metadata": {
  "kernelspec": {
   "display_name": "Python 2",
   "language": "python",
   "name": "python2"
  },
  "language_info": {
   "codemirror_mode": {
    "name": "ipython",
    "version": 2
   },
   "file_extension": ".py",
   "mimetype": "text/x-python",
   "name": "python",
   "nbconvert_exporter": "python",
   "pygments_lexer": "ipython2",
   "version": "2.7.14+"
  },
  "varInspector": {
   "cols": {
    "lenName": 16,
    "lenType": 16,
    "lenVar": 40
   },
   "kernels_config": {
    "python": {
     "delete_cmd_postfix": "",
     "delete_cmd_prefix": "del ",
     "library": "var_list.py",
     "varRefreshCmd": "print(var_dic_list())"
    },
    "r": {
     "delete_cmd_postfix": ") ",
     "delete_cmd_prefix": "rm(",
     "library": "var_list.r",
     "varRefreshCmd": "cat(var_dic_list()) "
    }
   },
   "types_to_exclude": [
    "module",
    "function",
    "builtin_function_or_method",
    "instance",
    "_Feature"
   ],
   "window_display": false
  }
 },
 "nbformat": 4,
 "nbformat_minor": 2
}
