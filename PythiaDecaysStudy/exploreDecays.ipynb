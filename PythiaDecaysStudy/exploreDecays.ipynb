{
 "cells": [
  {
   "cell_type": "code",
   "execution_count": 1,
   "metadata": {
    "ExecuteTime": {
     "end_time": "2022-03-07T23:49:44.625005Z",
     "start_time": "2022-03-07T23:49:44.534068Z"
    }
   },
   "outputs": [],
   "source": [
    "import os, glob, sys, re\n",
    "import numpy as np\n",
    "from prettytable import PrettyTable"
   ]
  },
  {
   "cell_type": "code",
   "execution_count": 2,
   "metadata": {
    "ExecuteTime": {
     "end_time": "2022-03-07T23:49:44.844792Z",
     "start_time": "2022-03-07T23:49:44.789062Z"
    }
   },
   "outputs": [],
   "source": [
    "f = open('ParticleData.html', 'r')\n",
    "content = f.readlines()"
   ]
  },
  {
   "cell_type": "code",
   "execution_count": 3,
   "metadata": {
    "ExecuteTime": {
     "end_time": "2022-03-07T23:49:45.218724Z",
     "start_time": "2022-03-07T23:49:45.205486Z"
    }
   },
   "outputs": [],
   "source": [
    "# def isRelevantDecay(products):\n",
    "#     DstSources = [411, 413, 10433, 10413, 10423, 415, 425, 20413, 20423]\n",
    "#     idxDst = [ i for i,x in enumerate(np.abs(products)) if x in DstSources ]\n",
    "#     if len(idxDst) == 0:\n",
    "#         return False\n",
    "\n",
    "    \n",
    "#     idxHc = []\n",
    "#     for i, x in enumerate(np.abs(products)):\n",
    "#         if i == idxDst[0]:\n",
    "#             continue\n",
    "#         if (x % 1000)/100 == 4:\n",
    "#             idxHc.append(i)\n",
    "#     if len(idxHc) == 0:\n",
    "#         return False\n",
    "    \n",
    "#     return True\n",
    "\n",
    "def isRelevantDecay(products):\n",
    "    if not 413 in products:\n",
    "        return False\n",
    "    \n",
    "    return True"
   ]
  },
  {
   "cell_type": "code",
   "execution_count": 16,
   "metadata": {
    "ExecuteTime": {
     "end_time": "2022-03-07T23:55:30.521693Z",
     "start_time": "2022-03-07T23:55:30.221555Z"
    },
    "code_folding": [
     8,
     12,
     18
    ]
   },
   "outputs": [
    {
     "name": "stdout",
     "output_type": "stream",
     "text": [
      "Found: 511 0.057 [12, -11, -413]\n",
      "Found: 511 0.057 [14, -13, -413]\n",
      "Found: 511 0.016 [16, -15, -413]\n",
      "Found: 511 0.0126 [431, -413]\n",
      "Found: 511 0.024 [433, -413]\n",
      "Found: 511 0.012 [20213, -413]\n"
     ]
    }
   ],
   "source": [
    "particlesData = {}\n",
    "interestigDecays = []\n",
    "\n",
    "pHeader = '[ ]*<p/>particle:[ ]*id=\"[0-9]+\" name='\n",
    "decayHeader = '[ ]*<br/>[ ]+channel: '\n",
    "skipNext = 0\n",
    "pId = None\n",
    "for iln, ln in enumerate(content):\n",
    "    if skipNext > 0:\n",
    "        skipNext -= 1\n",
    "        continue\n",
    "    \n",
    "    elif not ln.strip():\n",
    "        continue\n",
    "    \n",
    "    elif pId is None and not re.match(pHeader, ln): \n",
    "        continue\n",
    "        \n",
    "    elif re.match(pHeader, ln):\n",
    "        pData = ln[14:-1]\n",
    "        addLines = 0\n",
    "        while re.match(r'[ ]+[a-zA-Z0-9]+=\".*\"', content[iln+addLines+1]):\n",
    "            addLines += 1\n",
    "            pData += ' ' + content[iln+addLines].strip()\n",
    "            \n",
    "        skipNext = addLines\n",
    "        for d in re.findall(r'[a-zA-Z]+=\"[/a-zA-z 0-9\\.\\*\\-\\+_\\(\\)]+\"', pData):\n",
    "            if not d: \n",
    "                continue\n",
    "            if re.match('id=\"[0-9]+\"', d):\n",
    "                pId = int(d[4:-1])\n",
    "                particlesData[pId] = {}\n",
    "            else:\n",
    "                k, v = re.split('=', d, maxsplit=1)\n",
    "                if k.endswith('Type'):\n",
    "                    k = k[:-4]\n",
    "                v = v[1:-1]\n",
    "                if k in ['charge', 'spin', 'col']:\n",
    "                    v = int(v)\n",
    "                elif k in ['m0']:\n",
    "                    v = float(v)\n",
    "                particlesData[pId][k] = v\n",
    "    elif pId is not None and re.match(decayHeader, ln):\n",
    "        data = ln[len(decayHeader):].strip()\n",
    "        br = None\n",
    "        products = []\n",
    "        for aux in re.findall(r'[a-zA-Z]+=\"[ 0-9\\.\\-]+\"', data):\n",
    "            k, v = aux.split('=')\n",
    "            v = v[1:-1]\n",
    "            if k == 'bRatio': \n",
    "                br = float(v)\n",
    "            elif k == 'products':\n",
    "                products = [int(x) for x in v.split(' ') if x]\n",
    "                \n",
    "        flag = br > 0.01 and pId == 511\n",
    "        for x in [413]:\n",
    "            flag = flag and (x in np.abs(products))\n",
    "        if flag:\n",
    "            print 'Found:', pId, br, products\n",
    "#         if isRelevantDecay(products) and br > 1e-2:\n",
    "        if 413 in np.abs(products) and br > 1e-2 and (pId % 1000)/100 == 5:\n",
    "            interestigDecays.append([pId, br, products])\n",
    "#             print 'Found:', pId, br, products\n",
    "#             break\n",
    "    elif ln.strip() in ['</body>', '</html>', '<!-- Copyright (C) 2022 Torbjorn Sjostrand -->']:\n",
    "        continue\n",
    "    else:\n",
    "        print pId\n",
    "        print 'Line not recognized at', iln\n",
    "        print '>',ln,'<'\n",
    "        break"
   ]
  },
  {
   "cell_type": "code",
   "execution_count": 17,
   "metadata": {
    "ExecuteTime": {
     "end_time": "2022-03-07T23:55:32.460889Z",
     "start_time": "2022-03-07T23:55:32.435898Z"
    }
   },
   "outputs": [
    {
     "name": "stdout",
     "output_type": "stream",
     "text": [
      "Found 8 D*Hc decays\n",
      "+--------+-----------------+-----------+\n",
      "| Mother |     Products    | Br [1e-3] |\n",
      "+--------+-----------------+-----------+\n",
      "|   B0   |   nu_e e+ D*-   |   57.00   |\n",
      "|   B0   |  nu_mu mu+ D*-  |   57.00   |\n",
      "|   B0   | nu_tau tau+ D*- |   16.00   |\n",
      "|   B0   |     D_s+ D*-    |   12.60   |\n",
      "|   B0   |    D*_s+ D*-    |   24.00   |\n",
      "|   B0   |  a_1(1260)+ D*- |   12.00   |\n",
      "|   B+   | D*- pi+ pi+ pi0 |   15.00   |\n",
      "|  B_s0  |   D*_s- D*+ K0  |   15.00   |\n",
      "+--------+-----------------+-----------+\n"
     ]
    }
   ],
   "source": [
    "print 'Found {} D*Hc decays'.format(len(interestigDecays))\n",
    "\n",
    "table = PrettyTable()\n",
    "table.field_names = ['Mother', 'Products', 'Br [1e-3]']\n",
    "\n",
    "for motherId, br, products in interestigDecays:\n",
    "    prodNames = ''\n",
    "    for pid in products:\n",
    "        if pid > 0:\n",
    "            prodNames += particlesData[pid]['name'] + ' '\n",
    "        else:\n",
    "            prodNames += particlesData[-pid]['antiName'] + ' '\n",
    "    out = [particlesData[motherId]['name'], prodNames[:-1], '{:.2f}'.format(1e3*br)]\n",
    "    table.add_row(out)\n",
    "print table"
   ]
  },
  {
   "cell_type": "code",
   "execution_count": null,
   "metadata": {},
   "outputs": [],
   "source": []
  }
 ],
 "metadata": {
  "kernelspec": {
   "display_name": "Python 2",
   "language": "python",
   "name": "python2"
  },
  "language_info": {
   "codemirror_mode": {
    "name": "ipython",
    "version": 2
   },
   "file_extension": ".py",
   "mimetype": "text/x-python",
   "name": "python",
   "nbconvert_exporter": "python",
   "pygments_lexer": "ipython2",
   "version": "2.7.14+"
  },
  "varInspector": {
   "cols": {
    "lenName": 16,
    "lenType": 16,
    "lenVar": 40
   },
   "kernels_config": {
    "python": {
     "delete_cmd_postfix": "",
     "delete_cmd_prefix": "del ",
     "library": "var_list.py",
     "varRefreshCmd": "print(var_dic_list())"
    },
    "r": {
     "delete_cmd_postfix": ") ",
     "delete_cmd_prefix": "rm(",
     "library": "var_list.r",
     "varRefreshCmd": "cat(var_dic_list()) "
    }
   },
   "types_to_exclude": [
    "module",
    "function",
    "builtin_function_or_method",
    "instance",
    "_Feature"
   ],
   "window_display": false
  }
 },
 "nbformat": 4,
 "nbformat_minor": 2
}
