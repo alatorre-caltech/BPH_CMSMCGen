{
 "cells": [
  {
   "cell_type": "code",
   "execution_count": 1,
   "metadata": {
    "ExecuteTime": {
     "end_time": "2020-05-28T00:38:37.911898Z",
     "start_time": "2020-05-28T00:38:27.038530Z"
    }
   },
   "outputs": [
    {
     "name": "stdout",
     "output_type": "stream",
     "text": [
      "Welcome to JupyROOT 6.12/07\n"
     ]
    }
   ],
   "source": [
    "import numpy as np\n",
    "import scipy.stats as sps\n",
    "from glob import glob\n",
    "import matplotlib.pyplot as plt\n",
    "import ROOT as rt\n",
    "import root_numpy as rtnp\n",
    "import sys, os, yaml\n",
    "sys.path.append('/storage/user/ocerri/BPhysics/lib')\n",
    "from histo_utilities import create_TH1D, create_TH2D, std_color_list, SetMaxToMaxHist, make_ratio_plot\n",
    "from cebefo_style import Set_2D_colz_graphics\n",
    "from progressBar import ProgressBar\n",
    "\n",
    "from analysis_utilities import drawOnCMSCanvas, getEff\n",
    "\n",
    "import CMS_lumi, tdrstyle\n",
    "tdrstyle.setTDRStyle()\n",
    "CMS_lumi.writeExtraText = 1\n",
    "CMS_lumi.extraText = \"     Internal\"\n",
    "\n",
    "donotdelete = []"
   ]
  },
  {
   "cell_type": "code",
   "execution_count": 2,
   "metadata": {
    "ExecuteTime": {
     "end_time": "2020-05-28T00:38:38.258706Z",
     "start_time": "2020-05-28T00:38:37.916945Z"
    }
   },
   "outputs": [],
   "source": [
    "# load FWLite C++ libraries\n",
    "rt.gSystem.Load(\"libFWCoreFWLite.so\");\n",
    "rt.gSystem.Load(\"libDataFormatsFWLite.so\");\n",
    "rt.FWLiteEnabler.enable()\n",
    "\n",
    "# load FWlite python libraries\n",
    "from DataFormats.FWLite import Events\n",
    "from DataFormats.FWLite import Handle"
   ]
  },
  {
   "cell_type": "code",
   "execution_count": 3,
   "metadata": {
    "ExecuteTime": {
     "end_time": "2020-05-28T00:38:38.352943Z",
     "start_time": "2020-05-28T00:38:38.265114Z"
    }
   },
   "outputs": [],
   "source": [
    "fname = '../BPhysics/data/cmsMC_private/'\n",
    "fname += 'BP_Tag_antiB0_DstmHc_Hardbbbar_evtgen_ISGW2_PUc0_10-2-3/test_GEN-SIM.root'"
   ]
  },
  {
   "cell_type": "code",
   "execution_count": 4,
   "metadata": {
    "ExecuteTime": {
     "end_time": "2020-05-28T00:38:41.946580Z",
     "start_time": "2020-05-28T00:38:38.357970Z"
    }
   },
   "outputs": [],
   "source": [
    "handle = {}\n",
    "handle['genP'] = [Handle('std::vector<reco::GenParticle>'), 'genParticles']"
   ]
  },
  {
   "cell_type": "code",
   "execution_count": 5,
   "metadata": {
    "ExecuteTime": {
     "end_time": "2020-05-28T00:38:45.028246Z",
     "start_time": "2020-05-28T00:38:41.953503Z"
    }
   },
   "outputs": [
    {
     "name": "stdout",
     "output_type": "stream",
     "text": [
      "2411\n",
      "474 : (5-->) -521 --> 421 -211 111 113\n",
      "960 : (511-->) -511 --> -413 411 -311\n",
      " \n",
      "3856\n",
      "1312 : (1-->) 521 --> -423 113 223 211 223 223\n",
      "2135 : (-513-->) -511 --> -413 413 -311\n",
      " \n",
      "4382\n",
      "1355 : (-523-->) -521 --> 423 13 -14\n",
      "1407 : (511-->) -511 --> -413 413 -311\n",
      " \n",
      "9584\n",
      "546 : (5-->) -511 --> -413 413 -311\n",
      " \n",
      "12745\n",
      "1233 : (513-->) 511 --> 311 -411 413 111\n",
      "1474 : (-513-->) -511 --> -413 413 -311\n",
      " \n",
      "13855\n",
      "552 : (5-->) -511 --> -413 413 -311\n",
      "777 : (513-->) 511 --> -413 211 -211 323 -311\n",
      " \n",
      "14694\n",
      "701 : (5-->) -511 --> -413 411 -311\n",
      " \n",
      "15232\n",
      "496 : (513-->) 511 --> -413 -13 14 22\n",
      "509 : (-511-->) 511 --> 411 311 -413\n",
      " \n",
      "19768\n",
      "809 : (2-->) 511 --> -413 -13 14\n",
      "1023 : (-513-->) -511 --> -413 411 -311\n",
      " \n",
      "19676\n",
      "1519 : (511-->) -511 --> -413 413 -311\n",
      " \n"
     ]
    }
   ],
   "source": [
    "nB0 = []\n",
    "for ie, event in enumerate(Events(fname)):\n",
    "    print event.eventAuxiliary().event()\n",
    "    prods = {}\n",
    "    for k,v in handle.iteritems():\n",
    "        event.getByLabel(v[1], v[0])\n",
    "        prods[k] = v[0].product()\n",
    "    \n",
    "    evNB0 = 0\n",
    "    for ip, p in enumerate(prods['genP']):\n",
    "        if not abs(p.pdgId()) in [511, 521]:\n",
    "            continue\n",
    "        if p.numberOfDaughters() == 1:\n",
    "            continue\n",
    "        if p.pdgId() == 511:\n",
    "            evNB0 +=1\n",
    "        ln = str(p.pdgId()) + ' -->'\n",
    "        for d in p.daughterRefVector():\n",
    "            ln += ' ' + str(d.pdgId())\n",
    "        print ip, ':', '({}-->)'.format(p.mother().pdgId()), ln\n",
    "    nB0.append(evNB0)\n",
    "    print ' '\n",
    "nB0 = np.array(nB0)"
   ]
  },
  {
   "cell_type": "code",
   "execution_count": 6,
   "metadata": {
    "ExecuteTime": {
     "end_time": "2020-05-28T00:38:45.046292Z",
     "start_time": "2020-05-28T00:38:45.032002Z"
    }
   },
   "outputs": [
    {
     "name": "stdout",
     "output_type": "stream",
     "text": [
      "[0 0 0 0 1 1 0 2 1 0]\n"
     ]
    }
   ],
   "source": [
    "print nB0"
   ]
  },
  {
   "cell_type": "code",
   "execution_count": 7,
   "metadata": {
    "ExecuteTime": {
     "end_time": "2020-05-28T00:38:45.077431Z",
     "start_time": "2020-05-28T00:38:45.050639Z"
    }
   },
   "outputs": [
    {
     "data": {
      "text/plain": [
       "[0.1, 0.09486832980505139]"
      ]
     },
     "execution_count": 7,
     "metadata": {},
     "output_type": "execute_result"
    }
   ],
   "source": [
    "getEff(np.sum(nB0>1), nB0.shape[0])"
   ]
  },
  {
   "cell_type": "code",
   "execution_count": null,
   "metadata": {},
   "outputs": [],
   "source": []
  }
 ],
 "metadata": {
  "kernelspec": {
   "display_name": "Python 2",
   "language": "python",
   "name": "python2"
  },
  "language_info": {
   "codemirror_mode": {
    "name": "ipython",
    "version": 2
   },
   "file_extension": ".py",
   "mimetype": "text/x-python",
   "name": "python",
   "nbconvert_exporter": "python",
   "pygments_lexer": "ipython2",
   "version": "2.7.14+"
  },
  "varInspector": {
   "cols": {
    "lenName": 16,
    "lenType": 16,
    "lenVar": 40
   },
   "kernels_config": {
    "python": {
     "delete_cmd_postfix": "",
     "delete_cmd_prefix": "del ",
     "library": "var_list.py",
     "varRefreshCmd": "print(var_dic_list())"
    },
    "r": {
     "delete_cmd_postfix": ") ",
     "delete_cmd_prefix": "rm(",
     "library": "var_list.r",
     "varRefreshCmd": "cat(var_dic_list()) "
    }
   },
   "types_to_exclude": [
    "module",
    "function",
    "builtin_function_or_method",
    "instance",
    "_Feature"
   ],
   "window_display": false
  }
 },
 "nbformat": 4,
 "nbformat_minor": 2
}
